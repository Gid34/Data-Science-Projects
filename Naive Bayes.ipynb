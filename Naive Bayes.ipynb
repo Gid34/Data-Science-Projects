{
 "cells": [
  {
   "cell_type": "markdown",
   "id": "8e43c39d-c8be-4bab-ac88-4c4d4b1e1f09",
   "metadata": {},
   "source": [
    "# Naive Bayes \n",
    "\n",
    "# Steps\n",
    "\n",
    "### Training\n",
    "\n",
    "Calculate the...\n",
    "1. mean\n",
    "2. variance\n",
    "3. prior (frequency) for each class.\n",
    "\n",
    "\n",
    "### Predictions\n",
    "\n",
    "- STEP 1:Calculate the posterior for each class with 1.) formula AND 2.) the Gaussian formula\n",
    "- STEP 2: From STEP 1, choose the class with the highest posterior probability.\n"
   ]
  },
  {
   "cell_type": "code",
   "execution_count": 11,
   "id": "41581208-3e5d-42c6-a9b3-6c5b3dfd27dd",
   "metadata": {
    "tags": []
   },
   "outputs": [
    {
     "name": "stdout",
     "output_type": "stream",
     "text": [
      "1000\n",
      "10\n",
      "\n",
      "[0 1]\n",
      "2\n",
      "\n",
      "[[0. 0. 0. 0. 0. 0. 0. 0. 0. 0.]\n",
      " [0. 0. 0. 0. 0. 0. 0. 0. 0. 0.]]\n",
      "\n",
      "[0. 0.]\n"
     ]
    }
   ],
   "source": [
    "import numpy as np\n",
    "\n",
    "from sklearn.model_selection import train_test_split\n",
    "from sklearn import datasets\n",
    "\n",
    "def accuracy(y_true, y_pred):\n",
    "    accuracy = np.sum(y_true == y_pred) / len (y_true)\n",
    "    return accuracy\n",
    "\n",
    "X, y = datasets.make_classification(\n",
    "    n_samples = 1000, n_features = 10, n_classes = 2, random_state = 123\n",
    ")\n",
    "\n",
    "\n",
    "n_samples, n_features = X.shape\n",
    "\n",
    "raw_classes = y\n",
    "\n",
    "uniqueClass = np.unique(y)\n",
    "\n",
    "numberOfUniqueClass = len(uniqueClass)\n",
    "\n",
    "\n",
    "#X.shape as a Numpy Array\n",
    "print(n_samples)\n",
    "print(n_features)\n",
    "\n",
    "\n",
    "print()\n",
    "\n",
    "#y = array containing 0 and 1 only\n",
    "# print(raw_classes)\n",
    "\n",
    "print(uniqueClass)\n",
    "print(numberOfUniqueClass)\n",
    "\n",
    "print()\n",
    "\n",
    "        #np.zeros((2,10))\n",
    "_mean = np.zeros((numberOfUniqueClass, n_features), dtype = np.float64)\n",
    "_priors = np.zeros( (numberOfUniqueClass) , dtype = np.float64)\n",
    "\n",
    "print(_mean)\n",
    "print()\n",
    "print(_priors)\n",
    "\n",
    "# z = 0\n",
    "\n",
    "# for idx, c in enumerate(_classes):\n",
    "#     X_c = X [y == c]\n",
    "#     z += 1\n",
    "#     print(len(X_c))\n",
    "#     print(z)"
   ]
  },
  {
   "cell_type": "markdown",
   "id": "08f9d2d6-50ee-48b6-b7a8-b3339a6f5f88",
   "metadata": {},
   "source": [
    "# Final Code"
   ]
  },
  {
   "cell_type": "code",
   "execution_count": 13,
   "id": "458b9146-9bf9-4939-b225-61100600109c",
   "metadata": {
    "tags": []
   },
   "outputs": [],
   "source": [
    "import numpy as np\n",
    "\n",
    "#no need for init since we don't have any parameters to configure it with.\n",
    "\n",
    "class NaiveBayes:\n",
    "    \n",
    "    def fit(self,X,y):\n",
    "        n_samples, n_features = X.shape #assumes the data is formatted in a numpy n-d array\n",
    "            #X[0] is the number of samples, X[1] is the number of features (i.e. contains the class labels)\n",
    "        self._classes = np.unique(y)\n",
    "        n_classes = len(self._classes)\n",
    "        \n",
    "        #calculate mean, var, and prior for each class\n",
    "        \n",
    "        self._mean = np.zeros( (n_classes, n_features), dtype = np.float64)\n",
    "        self._var = np.zeros( (n_classes, n_features), dtype = np.float64)\n",
    "        self._priors = np.zeros( n_classes, dtype = np.float64)\n",
    "        \n",
    "        \n",
    "        for idx, c in enumerate(self._classes):\n",
    "            X_c = X [y==c]\n",
    "            self._mean[idx, :] = X_c.mean(axis=0) #right side is a built-in numpy function\n",
    "            self._var[idx, :] = X_c.var(axis=0) #right side is a built-in numpy function\n",
    "            self._priors[idx] = X_c.shape[0] / float(n_samples) #number of samples/ total number of samples\n",
    "            \n",
    "    \n",
    "    def predict(self, X):\n",
    "        y_pred = [self._predict(x) for x in X] #x = one sample\n",
    "        return np.array(y_pred)\n",
    "    \n",
    "    def _predict(self, x):\n",
    "        posteriors = []\n",
    "        \n",
    "        #calculate posterior probability for each class\n",
    "        for idx, c in enumerate(self._classes):\n",
    "            prior = np.log(self._priors[idx])\n",
    "            posterior = np.sum(np.log(self._pdf(idx, x))) #apply gausian distribution using the helper function pdf \n",
    "                                                        #or probability density function\n",
    "            posterior_added = posterior + prior\n",
    "            posteriors.append(posterior_added)\n",
    "            \n",
    "        #return class with the highest posterior\n",
    "        return self._classes[np.argmax(posteriors)]\n",
    "    \n",
    "    def _pdf(self, class_idx, x): #Gaussian Distribution Function\n",
    "        mean = self._mean[class_idx]\n",
    "        var = self._var[class_idx]\n",
    "        numerator = np.exp( - (x-mean) ** 2 / (2*var) ) #built in exponential function\n",
    "        denominator = np.sqrt(2* np.pi * var)\n",
    "        return numerator / denominator\n",
    "        "
   ]
  },
  {
   "cell_type": "markdown",
   "id": "27ee8357-885b-4583-a088-6cd624bceacb",
   "metadata": {},
   "source": [
    "# Load Dataset"
   ]
  },
  {
   "cell_type": "code",
   "execution_count": 20,
   "id": "0c67305b-f228-4424-8508-0eefa9917f3d",
   "metadata": {
    "tags": []
   },
   "outputs": [
    {
     "name": "stdout",
     "output_type": "stream",
     "text": [
      "Naive Bayes classification accuracy: 0.965\n"
     ]
    }
   ],
   "source": [
    "from sklearn.model_selection import train_test_split\n",
    "from sklearn import datasets\n",
    "\n",
    "def accuracy(y_true, y_pred):\n",
    "    accuracy = np.sum(y_true == y_pred) / len (y_true)\n",
    "    return accuracy\n",
    "\n",
    "X, y = datasets.make_classification(\n",
    "    n_samples = 1000, n_features = 10, n_classes = 2, random_state = 123\n",
    ")\n",
    "\n",
    "X_train, X_test, y_train, y_test = train_test_split(\n",
    "    X, y, test_size = 0.2, random_state = 123\n",
    ")\n",
    "\n",
    "nb = NaiveBayes()\n",
    "nb.fit(X_train, y_train)\n",
    "predictions = nb.predict(X_test)\n",
    "\n",
    "print(\"Naive Bayes classification accuracy:\", accuracy(y_test,predictions))\n",
    "\n",
    "# nb.predict(X_test)"
   ]
  },
  {
   "cell_type": "code",
   "execution_count": null,
   "id": "669f2f19-86c5-491d-b592-ad9935a00295",
   "metadata": {},
   "outputs": [],
   "source": []
  }
 ],
 "metadata": {
  "kernelspec": {
   "display_name": "Python 3 (ipykernel)",
   "language": "python",
   "name": "python3"
  },
  "language_info": {
   "codemirror_mode": {
    "name": "ipython",
    "version": 3
   },
   "file_extension": ".py",
   "mimetype": "text/x-python",
   "name": "python",
   "nbconvert_exporter": "python",
   "pygments_lexer": "ipython3",
   "version": "3.11.4"
  }
 },
 "nbformat": 4,
 "nbformat_minor": 5
}
