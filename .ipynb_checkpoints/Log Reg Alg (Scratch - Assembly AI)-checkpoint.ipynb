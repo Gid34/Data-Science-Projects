{
 "cells": [
  {
   "cell_type": "markdown",
   "id": "8f985ca4-e7c8-4087-bfd8-69a62e8ec173",
   "metadata": {},
   "source": [
    "# GOALS\n",
    "\n",
    "## Calculating Error using Cross Entropy Formula\n",
    "\n",
    "1. Use Gradient Descent again to find the optimized weight and bias\n",
    "\n",
    "## Recap\n",
    "Learning rate - how fast or slow to get to the minima.\n",
    "\n",
    "weight (w)  =  w- (learning rate)(derivative of w)\n",
    "\n",
    "bias (b) = b- (learning rate)(derivative of b)\n",
    "\n",
    "*See notebook for more notes*"
   ]
  },
  {
   "cell_type": "markdown",
   "id": "dbb1df91-a30b-4999-a55e-2788de0195fa",
   "metadata": {
    "tags": []
   },
   "source": [
    "# STEPS\n",
    "\n",
    "## Pre-testing: \n",
    "\n",
    "**Training:**\n",
    "1. At first, initialize weight as 0 \n",
    "2. At first,  initialize bias as 0\n",
    "\n",
    "**Given a data point:**\n",
    "1. Predict result by using **y^ = 1 / (1 + e^(-wx+b))**\n",
    "2. Calculate error\n",
    "3. Use gradient descent to figure out new weight and bias values\n",
    "4. Repeat n times\n",
    "\n",
    "## Testing: \n",
    "\n",
    "Given a data point:\n",
    "1. Put in the values from the data point into the equation **y^ = 1 / (1 + e^(-wx+b))**\n",
    "2. Choose the label based on the probability **(either 0 or 1)**\n",
    "\n"
   ]
  },
  {
   "cell_type": "code",
   "execution_count": 1,
   "id": "dc886293-0e2f-40bf-b1d1-f64b96bc4f4c",
   "metadata": {
    "tags": []
   },
   "outputs": [],
   "source": [
    "import numpy as np\n",
    "import TIME\n",
    "\n",
    "def sigmoid(x):\n",
    "    return 1/( 1 + np.exp(-x))\n",
    "    \n",
    "    #Potential error since it's -wx +b #Maybe numpy is fixing \n",
    "    #the -wx-b -> -wx +b\n",
    "\n",
    "\n",
    "class LogisticRegression:\n",
    "    \n",
    "    def __init__(self, lr = 0.001, n_iters = 1000):\n",
    "        self.lr = lr\n",
    "        self.n_iters = n_iters\n",
    "        self.weights = None\n",
    "        self.bias = None\n",
    "    \n",
    "    def fit(self, X, y):\n",
    "        n_samples, n_features = X.shape\n",
    "        self.weights = np.zeros(n_features)\n",
    "        self.bias = 0\n",
    "        \n",
    "        for _ in range (self.n_iters):\n",
    "            linear_pred = np.dot(X, self.weights) + self.bias\n",
    "            y_pred = sigmoid(linear_pred)\n",
    "            \n",
    "            dw = (1/n_samples) * np.dot(X.T, (y_pred -y) )\n",
    "            \n",
    "            db = (1/n_samples) * np.sum(y_pred - y)\n",
    "            \n",
    "            self.weights = self.weights - (self.lr*dw)\n",
    "            self.bias = self.bias - (self.lr*db)\n",
    "     \n",
    "    def predict(self, X):\n",
    "        linear_pred = np.dot(X, self.weights) + self.bias\n",
    "        \n",
    "        #\n",
    "        y_pred = sigmoid(linear_pred)\n",
    "        #calculation of the class labels\n",
    "        class_pred = [0 if y<= 0.5 else 1 for y in y_pred]\n",
    "        return class_pred"
   ]
  },
  {
   "cell_type": "code",
   "execution_count": 2,
   "id": "db2db801-3012-4423-ac4d-aa7e47a2a737",
   "metadata": {
    "tags": []
   },
   "outputs": [
    {
     "name": "stdout",
     "output_type": "stream",
     "text": [
      "\n",
      "617 ns ± 2.24 ns per loop (mean ± std. dev. of 7 runs, 1,000,000 loops each)\n"
     ]
    }
   ],
   "source": [
    "sigmoid(0)\n",
    "\n",
    "print()\n",
    "\n",
    "%timeit sigmoid(0)"
   ]
  },
  {
   "cell_type": "markdown",
   "id": "b7ab4790-cd46-4061-b25a-f887d66b9f60",
   "metadata": {},
   "source": [
    "# Run the Code"
   ]
  },
  {
   "cell_type": "code",
   "execution_count": 3,
   "id": "fb7307ba-bf91-4d29-9796-3f8b3df561a6",
   "metadata": {
    "tags": []
   },
   "outputs": [
    {
     "name": "stdout",
     "output_type": "stream",
     "text": [
      "0.8947368421052632\n"
     ]
    },
    {
     "name": "stderr",
     "output_type": "stream",
     "text": [
      "C:\\Users\\Professional\\AppData\\Local\\Temp\\ipykernel_34120\\474252962.py:5: RuntimeWarning: overflow encountered in exp\n",
      "  return 1/( 1 + np.exp(-x))\n"
     ]
    }
   ],
   "source": [
    "import numpy as np\n",
    "from sklearn.model_selection import train_test_split\n",
    "from sklearn import datasets\n",
    "import matplotlib.pyplot as plt\n",
    "from scipy.special import expit\n",
    "\n",
    "#from LogisticRegression import LogisticRegression\n",
    "\n",
    "bc = datasets.load_breast_cancer()\n",
    "X, y = bc.data, bc.target\n",
    "X_train, X_test, y_train, y_test = train_test_split(X, y,\n",
    "            test_size = 0.2, random_state = 1234)\n",
    "\n",
    "#Initialize classifier\n",
    "clf = LogisticRegression()\n",
    "clf.fit(X_train, y_train)\n",
    "y_pred = clf.predict(X_test)\n",
    "\n",
    "#Calculate for Accuracy\n",
    "def accuracy(y_pred, y_test):\n",
    "    return np.sum(y_pred == y_test)/ len(y_test)\n",
    "\n",
    "acc = accuracy(y_pred, y_test)\n",
    "\n",
    "print(acc)"
   ]
  },
  {
   "cell_type": "code",
   "execution_count": 4,
   "id": "9aad6560-7552-4c4f-b691-3b13876af969",
   "metadata": {},
   "outputs": [],
   "source": [
    "# Increase the learning rate"
   ]
  },
  {
   "cell_type": "code",
   "execution_count": 5,
   "id": "5684606f-216f-44da-aaf9-eec0dd37f7a7",
   "metadata": {
    "tags": []
   },
   "outputs": [
    {
     "name": "stderr",
     "output_type": "stream",
     "text": [
      "C:\\Users\\Professional\\AppData\\Local\\Temp\\ipykernel_34120\\474252962.py:5: RuntimeWarning: overflow encountered in exp\n",
      "  return 1/( 1 + np.exp(-x))\n"
     ]
    },
    {
     "name": "stdout",
     "output_type": "stream",
     "text": [
      "0.9210526315789473\n"
     ]
    }
   ],
   "source": [
    "clf = LogisticRegression(lr=0.01)\n",
    "\n",
    "#You need to have these code below to change it\n",
    "clf.fit(X_train, y_train)\n",
    "y_pred = clf.predict(X_test)\n",
    "\n",
    "#Calculate for Accuracy\n",
    "def accuracy(y_pred, y_test):\n",
    "    return np.sum(y_pred == y_test)/ len(y_test)\n",
    "\n",
    "acc = accuracy(y_pred, y_test)\n",
    "\n",
    "print(acc)"
   ]
  },
  {
   "cell_type": "code",
   "execution_count": 18,
   "id": "f233f0a4-3d25-4c49-858c-81c44b6749de",
   "metadata": {},
   "outputs": [
    {
     "name": "stdout",
     "output_type": "stream",
     "text": [
      "[1 1 1 1 1 1 0 1 0 0 0 1 1 1 1 0 1 1 1 0 1 0 0 0 0 1 0 1 1 1 1 1 0 1 1 1 1\n",
      " 0 0 1 0 1 0 1 1 1 1 0 0 1 1 1 1 0 0 1 1 1 1 0 1 1 1 1 1 0 0 1 1 0 1 0 1 0\n",
      " 1 1 1 0 1 0 1 1 1 0 0 0 0 0 1 0 1 0 1 0 0 1 1 1 1 1 0 0 1 1 0 1 1 0 0 1 0\n",
      " 1 0 0]\n",
      "114\n",
      "\n",
      "[1, 1, 1, 1, 1, 1, 0, 1, 0, 0, 0, 1, 1, 1, 1, 0, 1, 1, 1, 0, 1, 0, 0, 0, 0, 0, 0, 1, 1, 1, 1, 1, 0, 1, 1, 1, 1, 0, 0, 1, 0, 1, 0, 1, 1, 1, 1, 0, 0, 1, 1, 1, 1, 0, 0, 1, 1, 1, 1, 0, 1, 1, 1, 1, 1, 0, 0, 1, 1, 0, 1, 0, 1, 1, 1, 1, 1, 0, 1, 0, 1, 1, 1, 1, 0, 0, 0, 0, 0, 1, 1, 1, 1, 0, 1, 1, 1, 1, 1, 1, 0, 0, 1, 1, 0, 1, 1, 0, 1, 1, 0, 0, 0, 0]\n",
      "114\n",
      "\n"
     ]
    }
   ],
   "source": [
    "#Understanding the Code\n",
    "\n",
    "print(y_test)\n",
    "print(len(y_test))\n",
    "\n",
    "print()\n",
    "\n",
    "print(y_pred)\n",
    "print(len(y_pred))\n",
    "\n",
    "print()\n",
    "\n",
    "# print(y_pred == y_test)"
   ]
  },
  {
   "cell_type": "code",
   "execution_count": 17,
   "id": "6644f864-e82b-4815-897c-34a0b76fa3aa",
   "metadata": {
    "tags": []
   },
   "outputs": [
    {
     "name": "stdout",
     "output_type": "stream",
     "text": [
      "105\n",
      "114\n",
      "0.9210526315789473\n"
     ]
    }
   ],
   "source": [
    "variable = np.sum(y_pred == y_test)\n",
    "total_set = len(y_test)\n",
    "\n",
    "print(variable)\n",
    "print(total_set)\n",
    "print (variable/total_set)"
   ]
  },
  {
   "cell_type": "code",
   "execution_count": null,
   "id": "e8bc5146-a0d0-4ecc-b168-06ffe04e3b7c",
   "metadata": {},
   "outputs": [],
   "source": []
  }
 ],
 "metadata": {
  "kernelspec": {
   "display_name": "Python 3 (ipykernel)",
   "language": "python",
   "name": "python3"
  },
  "language_info": {
   "codemirror_mode": {
    "name": "ipython",
    "version": 3
   },
   "file_extension": ".py",
   "mimetype": "text/x-python",
   "name": "python",
   "nbconvert_exporter": "python",
   "pygments_lexer": "ipython3",
   "version": "3.11.4"
  }
 },
 "nbformat": 4,
 "nbformat_minor": 5
}
