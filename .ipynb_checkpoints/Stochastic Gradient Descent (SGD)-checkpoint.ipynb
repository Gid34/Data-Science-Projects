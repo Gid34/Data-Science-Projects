{
 "cells": [
  {
   "cell_type": "code",
   "execution_count": 4,
   "id": "96722226",
   "metadata": {},
   "outputs": [],
   "source": [
    "import numpy as np"
   ]
  },
  {
   "cell_type": "code",
   "execution_count": 3,
   "id": "20fe5007",
   "metadata": {},
   "outputs": [
    {
     "data": {
      "text/plain": [
       "<__main__.SGDRegressor at 0x1a332f8a390>"
      ]
     },
     "execution_count": 3,
     "metadata": {},
     "output_type": "execute_result"
    }
   ],
   "source": [
    "SGDRegressor()"
   ]
  },
  {
   "cell_type": "code",
   "execution_count": 8,
   "id": "d3d16e79",
   "metadata": {},
   "outputs": [
    {
     "ename": "ValueError",
     "evalue": "setting an array element with a sequence. The requested array has an inhomogeneous shape after 1 dimensions. The detected shape was (2,) + inhomogeneous part.",
     "output_type": "error",
     "traceback": [
      "\u001b[1;31m---------------------------------------------------------------------------\u001b[0m",
      "\u001b[1;31mAttributeError\u001b[0m                            Traceback (most recent call last)",
      "File \u001b[1;32m~\\anaconda3\\Lib\\site-packages\\numpy\\core\\fromnumeric.py:2033\u001b[0m, in \u001b[0;36mshape\u001b[1;34m(a)\u001b[0m\n\u001b[0;32m   2032\u001b[0m \u001b[38;5;28;01mtry\u001b[39;00m:\n\u001b[1;32m-> 2033\u001b[0m     result \u001b[38;5;241m=\u001b[39m a\u001b[38;5;241m.\u001b[39mshape\n\u001b[0;32m   2034\u001b[0m \u001b[38;5;28;01mexcept\u001b[39;00m \u001b[38;5;167;01mAttributeError\u001b[39;00m:\n",
      "\u001b[1;31mAttributeError\u001b[0m: 'list' object has no attribute 'shape'",
      "\nDuring handling of the above exception, another exception occurred:\n",
      "\u001b[1;31mValueError\u001b[0m                                Traceback (most recent call last)",
      "Cell \u001b[1;32mIn[8], line 3\u001b[0m\n\u001b[0;32m      1\u001b[0m y \u001b[38;5;241m=\u001b[39m [ [\u001b[38;5;241m1\u001b[39m,\u001b[38;5;241m2\u001b[39m], [\u001b[38;5;241m4\u001b[39m,\u001b[38;5;241m5\u001b[39m,\u001b[38;5;241m6\u001b[39m]]\n\u001b[1;32m----> 3\u001b[0m np\u001b[38;5;241m.\u001b[39mshape(y)\n",
      "File \u001b[1;32m<__array_function__ internals>:200\u001b[0m, in \u001b[0;36mshape\u001b[1;34m(*args, **kwargs)\u001b[0m\n",
      "File \u001b[1;32m~\\anaconda3\\Lib\\site-packages\\numpy\\core\\fromnumeric.py:2035\u001b[0m, in \u001b[0;36mshape\u001b[1;34m(a)\u001b[0m\n\u001b[0;32m   2033\u001b[0m     result \u001b[38;5;241m=\u001b[39m a\u001b[38;5;241m.\u001b[39mshape\n\u001b[0;32m   2034\u001b[0m \u001b[38;5;28;01mexcept\u001b[39;00m \u001b[38;5;167;01mAttributeError\u001b[39;00m:\n\u001b[1;32m-> 2035\u001b[0m     result \u001b[38;5;241m=\u001b[39m asarray(a)\u001b[38;5;241m.\u001b[39mshape\n\u001b[0;32m   2036\u001b[0m \u001b[38;5;28;01mreturn\u001b[39;00m result\n",
      "\u001b[1;31mValueError\u001b[0m: setting an array element with a sequence. The requested array has an inhomogeneous shape after 1 dimensions. The detected shape was (2,) + inhomogeneous part."
     ]
    }
   ],
   "source": [
    "y = [ [1,2], [4,5,6]]\n",
    "\n",
    "np.shape(y)\n",
    "\n",
    "#Must be same shape"
   ]
  },
  {
   "cell_type": "code",
   "execution_count": 9,
   "id": "e305b5db",
   "metadata": {},
   "outputs": [
    {
     "data": {
      "text/plain": [
       "(2, 3)"
      ]
     },
     "execution_count": 9,
     "metadata": {},
     "output_type": "execute_result"
    }
   ],
   "source": [
    "y = [ [1,2,3], [4,5,6]]\n",
    "\n",
    "np.shape(y)\n",
    "\n",
    "#There are 2 lists, each lists has 3 items within"
   ]
  },
  {
   "cell_type": "code",
   "execution_count": 29,
   "id": "7144916f",
   "metadata": {},
   "outputs": [
    {
     "name": "stdout",
     "output_type": "stream",
     "text": [
      "[0 1 2 3 4 5 6]\n"
     ]
    }
   ],
   "source": [
    "a = np.arange(7)\n",
    "\n",
    "print(a)"
   ]
  },
  {
   "cell_type": "code",
   "execution_count": 28,
   "id": "285c0efe",
   "metadata": {},
   "outputs": [
    {
     "name": "stdout",
     "output_type": "stream",
     "text": [
      "[[1 2]\n",
      " [3 4]]\n",
      "\n",
      "[[5 6]]\n",
      "\n",
      "[[1 2]\n",
      " [3 4]\n",
      " [5 6]]\n"
     ]
    }
   ],
   "source": [
    "x = np.array([[1, 2], [3, 4]])\n",
    "y = np.array([[5, 6]])\n",
    "a = np.concatenate((x, y), axis=0)\n",
    "\n",
    "# def fit(self, X, y):\n",
    "#     m, n = X.shape\n",
    "#     return m\n",
    "\n",
    "print(x)\n",
    "print()\n",
    "print(y)\n",
    "print()\n",
    "print(a)\n"
   ]
  },
  {
   "cell_type": "markdown",
   "id": "ef54123d",
   "metadata": {},
   "source": [
    "# Main Code"
   ]
  },
  {
   "cell_type": "code",
   "execution_count": 26,
   "id": "3fe9656c",
   "metadata": {},
   "outputs": [],
   "source": [
    "class SGDRegressor:\n",
    "    def __init__(self, learning_rate=0.01, epochs=100, batch_size=1, reg=None, reg_param=0.0):\n",
    "        \"\"\"\n",
    "        Constructor for the SGDRegressor.\n",
    "\n",
    "        Parameters:\n",
    "        learning_rate (float): The step size used in each update.\n",
    "        epochs (int): Number of passes over the training dataset.\n",
    "        batch_size (int): Number of samples to be used in each batch.\n",
    "        reg (str): Type of regularization ('l1' or 'l2'); None if no regularization.\n",
    "        reg_param (float): Regularization parameter.\n",
    "\n",
    "        The weights and bias are initialized as None and will be set during the fit method.\n",
    "        \"\"\"\n",
    "        self.learning_rate = learning_rate\n",
    "        self.epochs = epochs\n",
    "        self.batch_size = batch_size\n",
    "        self.reg = reg\n",
    "        self.reg_param = reg_param\n",
    "        self.weights = None\n",
    "        self.bias = None\n",
    "\n",
    "    def fit(self, X, y):\n",
    "        \"\"\"\n",
    "        Fits the SGDRegressor to the training data.\n",
    "\n",
    "        Parameters:\n",
    "        X (numpy.ndarray): Training data, shape (m_samples, n_features).\n",
    "        y (numpy.ndarray): Target values, shape (m_samples,).\n",
    "\n",
    "        This method initializes the weights and bias, and then updates them over a number of epochs.\n",
    "        \"\"\"\n",
    "        m, n = X.shape  # m is number of samples, n is number of features\n",
    "        self.weights = np.zeros(n)\n",
    "        self.bias = 0\n",
    "\n",
    "        for _ in range(self.epochs):\n",
    "            indices = np.random.permutation(m)\n",
    "            X_shuffled = X[indices]\n",
    "            y_shuffled = y[indices]\n",
    "\n",
    "            for i in range(0, m, self.batch_size):\n",
    "                X_batch = X_shuffled[i:i+self.batch_size]\n",
    "                y_batch = y_shuffled[i:i+self.batch_size]\n",
    "\n",
    "                gradient_w = -2 * np.dot(X_batch.T, (y_batch - np.dot(X_batch, self.weights) - self.bias)) / self.batch_size\n",
    "                gradient_b = -2 * np.sum(y_batch - np.dot(X_batch, self.weights) - self.bias) / self.batch_size\n",
    "\n",
    "                if self.reg == 'l1':\n",
    "                    gradient_w += self.reg_param * np.sign(self.weights)\n",
    "                elif self.reg == 'l2':\n",
    "                    gradient_w += self.reg_param * self.weights\n",
    "\n",
    "                self.weights -= self.learning_rate * gradient_w\n",
    "                self.bias -= self.learning_rate * gradient_b\n",
    "\n",
    "    def predict(self, X):\n",
    "        \"\"\"\n",
    "        Predicts the target values using the linear model.\n",
    "\n",
    "        Parameters:\n",
    "        X (numpy.ndarray): Data for which to predict target values.\n",
    "\n",
    "        Returns:\n",
    "        numpy.ndarray: Predicted target values.\n",
    "        \"\"\"\n",
    "        return np.dot(X, self.weights) + self.bias\n",
    "\n",
    "    def compute_loss(self, X, y):\n",
    "        \"\"\"\n",
    "        Computes the loss of the model.\n",
    "\n",
    "        Parameters:\n",
    "        X (numpy.ndarray): The input data.\n",
    "        y (numpy.ndarray): The true target values.\n",
    "\n",
    "        Returns:\n",
    "        float: The computed loss value.\n",
    "        \"\"\"\n",
    "        return (np.mean((y - self.predict(X)) ** 2) + self._get_regularization_loss()) ** 0.5\n",
    "\n",
    "    def _get_regularization_loss(self):\n",
    "        \"\"\"\n",
    "        Computes the regularization loss based on the regularization type.\n",
    "\n",
    "        Returns:\n",
    "        float: The regularization loss.\n",
    "        \"\"\"\n",
    "        if self.reg == 'l1':\n",
    "            return self.reg_param * np.sum(np.abs(self.weights))\n",
    "        elif self.reg == 'l2':\n",
    "            return self.reg_param * np.sum(self.weights ** 2)\n",
    "        else:\n",
    "            return 0\n",
    "\n",
    "    def get_weights(self):\n",
    "        \"\"\"\n",
    "        Returns the weights of the model.\n",
    "\n",
    "        Returns:\n",
    "        numpy.ndarray: The weights of the linear model.\n",
    "        \"\"\"\n",
    "        return self.weights"
   ]
  },
  {
   "cell_type": "markdown",
   "id": "2774ac66",
   "metadata": {},
   "source": [
    "## Step 1: Initialization \n",
    "\n",
    "```learning_rate``` - The step size used in updating the model (e.g. 0.01)\n",
    "\n",
    "```epochs``` - The number of passes over the entire dataset.\n",
    "\n",
    "```batch_size``` - The number of samples used in each batch for SGD\n",
    "\n",
    "```reg``` - The type of regularization (either *l1* or *l2* ; `None` if no regularization is used).\n",
    "\n",
    "`reg_param` - The regularization parameter.\n",
    "\n",
    "`weights` and  `bias` are set to `None` initially and will be initialized in the `fit` method.\n",
    " "
   ]
  },
  {
   "cell_type": "code",
   "execution_count": 2,
   "id": "bfb439c2",
   "metadata": {},
   "outputs": [],
   "source": [
    "    def __init__(self, learning_rate=0.01, epochs=100, batch_size=1, reg=None, reg_param=0.0):\n",
    "        self.learning_rate = learning_rate\n",
    "        self.epochs = epochs\n",
    "        self.batch_size = batch_size\n",
    "        self.reg = reg\n",
    "        self.reg_param = reg_param\n",
    "        self.weights = None\n",
    "        self.bias = None"
   ]
  },
  {
   "cell_type": "markdown",
   "id": "d8dcb057",
   "metadata": {},
   "source": [
    "## Step 2: Fit the Model\n",
    "\n",
    "`fit` takes in the arguement `X` , `y` and does the following:\n",
    "\n",
    "1. Starts initializing `weights` as a zero vector of the number of features (or length `n`)\n",
    "\n",
    "2. Initializes the `bias` to zero\n",
    "3. Takes array of `X` and uses `numpy.shape`.\n",
    "    Ex."
   ]
  },
  {
   "cell_type": "code",
   "execution_count": null,
   "id": "f8eb2a49",
   "metadata": {},
   "outputs": [],
   "source": [
    "def fit(self, X, y):\n",
    "    m, n = X.shape  # m is number of samples, n is number of features\n",
    "    self.weights = np.zeros(n)\n",
    "    self.bias = 0\n",
    "\n",
    "    for _ in range(self.epochs):\n",
    "        indices = np.random.permutation(m)\n",
    "        X_shuffled = X[indices]\n",
    "        y_shuffled = y[indices]\n",
    "\n",
    "        for i in range(0, m, self.batch_size):\n",
    "            X_batch = X_shuffled[i:i+self.batch_size]\n",
    "            y_batch = y_shuffled[i:i+self.batch_size]\n",
    "\n",
    "            gradient_w = -2 * np.dot(X_batch.T, (y_batch - np.dot(X_batch, self.weights) - self.bias)) / self.batch_size\n",
    "            gradient_b = -2 * np.sum(y_batch - np.dot(X_batch, self.weights) - self.bias) / self.batch_size\n",
    "\n",
    "            if self.reg == 'l1':\n",
    "                gradient_w += self.reg_param * np.sign(self.weights)\n",
    "            elif self.reg == 'l2':\n",
    "                gradient_w += self.reg_param * self.weights\n",
    "\n",
    "            self.weights -= self.learning_rate * gradient_w\n",
    "            self.bias -= self.learning_rate * gradient_b"
   ]
  },
  {
   "cell_type": "markdown",
   "id": "758ac28b",
   "metadata": {},
   "source": [
    "## Step 3: Random Selection and Batches\n"
   ]
  },
  {
   "cell_type": "code",
   "execution_count": null,
   "id": "46a0752a",
   "metadata": {},
   "outputs": [],
   "source": [
    "for _ in range(self.epochs):\n",
    "    indices = np.random.permutation(m)\n",
    "    X_shuffled = X[indices]\n",
    "    y_shuffled = y[indices]"
   ]
  },
  {
   "cell_type": "markdown",
   "id": "b1c1cc05",
   "metadata": {},
   "source": [
    "## Step 4: Compute the Gradient, Update the Parameters"
   ]
  },
  {
   "cell_type": "code",
   "execution_count": null,
   "id": "3038c4a8",
   "metadata": {},
   "outputs": [],
   "source": [
    "gradient_w = -2 * np.dot(X_batch.T, (y_batch - np.dot(X_batch, self.weights) - self.bias)) / self.batch_size\n",
    "gradient_b = -2 * np.sum(y_batch - np.dot(X_batch, self.weights) - self.bias) / self.batch_size"
   ]
  },
  {
   "cell_type": "markdown",
   "id": "81478593",
   "metadata": {},
   "source": [
    "## Step 5: Repeat steps until converge\n",
    "\n",
    "According to Stanford Prof. Andrew Ng, SGD rarely converges due to it oscillating frequently -- tester should stop when 1.) it is going to a negative value or 2.) decreasing."
   ]
  },
  {
   "cell_type": "code",
   "execution_count": 32,
   "id": "2053ed59",
   "metadata": {},
   "outputs": [],
   "source": [
    "def predict(self, X):\n",
    "\n",
    "        return np.dot(X, self.weights) + self.bias"
   ]
  },
  {
   "cell_type": "code",
   "execution_count": null,
   "id": "bda1cd62",
   "metadata": {},
   "outputs": [],
   "source": []
  },
  {
   "cell_type": "code",
   "execution_count": null,
   "id": "1a03ff44",
   "metadata": {},
   "outputs": [],
   "source": []
  },
  {
   "cell_type": "code",
   "execution_count": null,
   "id": "c5c1ba46",
   "metadata": {},
   "outputs": [],
   "source": []
  },
  {
   "cell_type": "code",
   "execution_count": null,
   "id": "c53794b3",
   "metadata": {},
   "outputs": [],
   "source": []
  },
  {
   "cell_type": "code",
   "execution_count": null,
   "id": "9cd6cb45",
   "metadata": {},
   "outputs": [],
   "source": []
  },
  {
   "cell_type": "code",
   "execution_count": null,
   "id": "37b32648",
   "metadata": {},
   "outputs": [],
   "source": []
  },
  {
   "cell_type": "code",
   "execution_count": null,
   "id": "86e705c4",
   "metadata": {},
   "outputs": [],
   "source": []
  },
  {
   "cell_type": "code",
   "execution_count": null,
   "id": "12a1b4ba",
   "metadata": {},
   "outputs": [],
   "source": []
  }
 ],
 "metadata": {
  "kernelspec": {
   "display_name": "Python 3 (ipykernel)",
   "language": "python",
   "name": "python3"
  },
  "language_info": {
   "codemirror_mode": {
    "name": "ipython",
    "version": 3
   },
   "file_extension": ".py",
   "mimetype": "text/x-python",
   "name": "python",
   "nbconvert_exporter": "python",
   "pygments_lexer": "ipython3",
   "version": "3.11.4"
  }
 },
 "nbformat": 4,
 "nbformat_minor": 5
}
